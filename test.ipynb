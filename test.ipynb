{
 "cells": [
  {
   "cell_type": "code",
   "execution_count": null,
   "metadata": {},
   "outputs": [],
   "source": [
    "text = \"Hello\"\n",
    "deck = dict()\n",
    "for let in text:\n",
    "    if let in deck:\n",
    "        deck[let] += 1\n",
    "    else:\n",
    "        deck[let] = 1\n",
    "print(deck)"
   ]
  },
  {
   "cell_type": "code",
   "execution_count": null,
   "metadata": {},
   "outputs": [],
   "source": [
    "text = \"HhaAeELLllOo\"\n",
    "deck = {}\n",
    "for let in text:\n",
    "    deck[let] = deck.get(let, 0) + 1\n",
    "print(deck)\n",
    "list_key = [key for key in deck]\n",
    "print(list_key)\n",
    "sorted_letter = sorted(list_key, key=lambda x: (x.lower(), x))\n",
    "sort_again = sorted(sorted_letter, key=str.swapcase)\n",
    "print(sorted_letter)\n",
    "print(sort_again)"
   ]
  },
  {
   "cell_type": "code",
   "execution_count": null,
   "metadata": {},
   "outputs": [],
   "source": [
    "text = \"HhaAeELLllOo\"\n",
    "deck = {let: text.count(let) for let in text}\n",
    "print(deck)\n"
   ]
  },
  {
   "cell_type": "code",
   "execution_count": null,
   "metadata": {},
   "outputs": [],
   "source": [
    "set_a = [1,2,3,3,3,4]\n",
    "set_b = [num for num in set_a if num != 3]\n",
    "set_a = set_b\n",
    "print(set_a)\n"
   ]
  },
  {
   "cell_type": "code",
   "execution_count": null,
   "metadata": {},
   "outputs": [],
   "source": [
    "for i in range(2):\n",
    "    passenger = input()\n",
    "print(passenger)"
   ]
  },
  {
   "cell_type": "code",
   "execution_count": null,
   "metadata": {},
   "outputs": [],
   "source": [
    "left = []\n",
    "passenger = [\"1\", \"2\", \"3\", '4', '5', '6']\n",
    "can_go = passenger[1:3]\n",
    "left = can_go\n",
    "print(can_go)\n",
    "print(left)"
   ]
  },
  {
   "cell_type": "code",
   "execution_count": null,
   "metadata": {},
   "outputs": [],
   "source": [
    "s = ['win', 'aom', 'jame']\n",
    "t = [1, 2, 3]\n",
    "y = ['a', 'b', 'c']\n",
    "z = zip(s, t, y)\n",
    "print(z)\n",
    "list_item = list(z)\n",
    "print(list_item)"
   ]
  },
  {
   "cell_type": "code",
   "execution_count": null,
   "metadata": {},
   "outputs": [],
   "source": [
    "data = {\"Chi\" : \"Cat06\", \"Tom\" : \"Cat05\"}\n",
    "sort_dict = sorted(data)\n",
    "print(sort_dict)"
   ]
  },
  {
   "cell_type": "code",
   "execution_count": null,
   "metadata": {},
   "outputs": [],
   "source": [
    "data = {\"Chi\" : \"Cat06\", \"Yami\" : \"Cat06\"}\n",
    "for i in data: # print keys\n",
    "    print(i)\n",
    "for i in data: # print value\n",
    "    print(data[i])\n",
    "for key, value in data.items(): # print ทั้้ง key / value\n",
    "    print(\"{} : {}\".format(key, value)) # ใช้ .format()\n",
    "    print(f\"{key} : {value}\") # ใช้ f-string"
   ]
  },
  {
   "cell_type": "code",
   "execution_count": null,
   "metadata": {},
   "outputs": [],
   "source": [
    "data = {\"win\" : \"win01\", \"jame\" : \"jame02\", \"aom\" : \"aom03\"}\n",
    "for i in data.keys():\n",
    "    print(i)"
   ]
  },
  {
   "cell_type": "code",
   "execution_count": null,
   "metadata": {},
   "outputs": [],
   "source": [
    "all_member = {}\n",
    "    # รับ string หน้าตาเหมือน dict >> เก็บเป็น dict\n",
    "while True:\n",
    "        member = input()\n",
    "        if member == \"Start\":\n",
    "            break\n",
    "        member = member.strip(\"{}\").replace(\"\\\"\", \"\").split(\" : \")\n",
    "        all_member.update({member[0]:member[1]})\n",
    "print(all_member)"
   ]
  },
  {
   "cell_type": "code",
   "execution_count": null,
   "metadata": {},
   "outputs": [],
   "source": [
    "score = ['3', '2', '1']\n",
    "num = []\n",
    "for _ in score:\n",
    "    num.append(int(_))\n",
    "print(num)"
   ]
  },
  {
   "cell_type": "code",
   "execution_count": null,
   "metadata": {},
   "outputs": [],
   "source": [
    "score = (3, 2, 1)\n",
    "print(\" \".join(map(str, score)))"
   ]
  },
  {
   "cell_type": "code",
   "execution_count": null,
   "metadata": {},
   "outputs": [],
   "source": [
    "import json\n",
    "text = json.loads(input())\n",
    "print(text)"
   ]
  },
  {
   "cell_type": "code",
   "execution_count": null,
   "metadata": {},
   "outputs": [],
   "source": [
    "print((6-1)%3)"
   ]
  },
  {
   "cell_type": "code",
   "execution_count": null,
   "metadata": {},
   "outputs": [],
   "source": [
    "def main():\n",
    "    num = 9\n",
    "    new_num = num\n",
    "    digit = {1 : new_num * 1}\n",
    "    return digit[len(str(num))]\n",
    "print(main())"
   ]
  },
  {
   "cell_type": "code",
   "execution_count": null,
   "metadata": {},
   "outputs": [],
   "source": [
    "for i in range(2, 3):\n",
    "    print(i)"
   ]
  },
  {
   "cell_type": "code",
   "execution_count": null,
   "metadata": {},
   "outputs": [],
   "source": [
    "num = {3, 2, 1}\n",
    "sort_num = sorted(num)\n",
    "print(sort_num)"
   ]
  },
  {
   "cell_type": "code",
   "execution_count": null,
   "metadata": {},
   "outputs": [],
   "source": [
    "num = []\n",
    "for i in range(2):\n",
    "    eiei = int(input())\n",
    "    num.append(eiei)\n",
    "print(num)"
   ]
  },
  {
   "cell_type": "code",
   "execution_count": null,
   "metadata": {},
   "outputs": [],
   "source": [
    "store = []\n",
    "while True:\n",
    "    pet = input()\n",
    "    if pet == \"END\":\n",
    "        break\n",
    "    pet.split(\",\")\n",
    "    store.append(pet)\n",
    "print(store)"
   ]
  },
  {
   "cell_type": "code",
   "execution_count": null,
   "metadata": {},
   "outputs": [],
   "source": [
    "name = \"Nuttawit\".split(\",\")\n",
    "print(name)"
   ]
  },
  {
   "cell_type": "code",
   "execution_count": null,
   "metadata": {},
   "outputs": [],
   "source": [
    "name = ['win', 'win', 'aom', 'yam', 'yam', 'jame']\n",
    "name = set(name)\n",
    "print(name)"
   ]
  },
  {
   "cell_type": "code",
   "execution_count": null,
   "metadata": {},
   "outputs": [],
   "source": [
    "for i in range(1-1, -1,-1):\n",
    "    print(i)\n"
   ]
  },
  {
   "cell_type": "code",
   "execution_count": null,
   "metadata": {},
   "outputs": [],
   "source": [
    "pro1 = list(map(int, input().split()))\n",
    "pro2 = list(map(int, input().split()))\n",
    "print(pro1)\n",
    "print(pro2)"
   ]
  },
  {
   "cell_type": "code",
   "execution_count": null,
   "metadata": {},
   "outputs": [],
   "source": [
    "def main(quan_r, quan_c):\n",
    "    \"\"\"Matrix MN\"\"\"\n",
    "    for row in range(quan_r):\n",
    "        for col in range(quan_c):\n",
    "            print(input(), end=\" \")\n",
    "        print()\n",
    "main(int(input()), int(input()))"
   ]
  },
  {
   "cell_type": "markdown",
   "metadata": {},
   "source": [
    "วิธีสร้าง Matrix ใน list กรณี input แบบ \"32\""
   ]
  },
  {
   "cell_type": "code",
   "execution_count": null,
   "metadata": {},
   "outputs": [],
   "source": [
    "# สร้าง Matrix 2x3 ที่มีค่าเริ่มต้นเป็น 0\n",
    "rows = 3\n",
    "columns = 3\n",
    "matrix = [[int(input()) for _ in range(columns)] for _ in range(rows)]\n",
    "max_val = max(max(row) for row in matrix)\n",
    "min_val = min(min(row) for row in matrix)\n",
    "print(matrix)\n",
    "print(max_val)\n",
    "print(min_val)"
   ]
  },
  {
   "cell_type": "markdown",
   "metadata": {},
   "source": [
    "วิธีสร้าง list แบบ Matrix กรณี input แบบ \"32 52\""
   ]
  },
  {
   "cell_type": "code",
   "execution_count": null,
   "metadata": {},
   "outputs": [],
   "source": [
    "data = [[int(x) for x in input().split()] for i in range(2)]\n",
    "print(data)"
   ]
  },
  {
   "cell_type": "code",
   "execution_count": null,
   "metadata": {},
   "outputs": [],
   "source": [
    "item = ['n', 'n', 'w']\n",
    "del item['n']\n",
    "print(item)"
   ]
  },
  {
   "cell_type": "code",
   "execution_count": null,
   "metadata": {},
   "outputs": [],
   "source": [
    "dick = {}\n",
    "for i in range(10):\n",
    "    let = int(input())\n",
    "    dick[let] = dick.get(let, 0) + 1\n",
    "print(dick)"
   ]
  },
  {
   "cell_type": "code",
   "execution_count": null,
   "metadata": {},
   "outputs": [],
   "source": [
    "def main():\n",
    "    \"\"\"return print\"\"\"\n",
    "    num = int(input())\n",
    "    count = 0\n",
    "    if num == 2:\n",
    "        return print(num, \"eiei\")\n",
    "    else:\n",
    "        count += num\n",
    "    print(count)\n",
    "main()"
   ]
  },
  {
   "cell_type": "code",
   "execution_count": null,
   "metadata": {},
   "outputs": [],
   "source": [
    "num = 2\n",
    "print(\"s\"*(num > 1))"
   ]
  },
  {
   "cell_type": "code",
   "execution_count": null,
   "metadata": {},
   "outputs": [],
   "source": [
    "menu = \"Abbacchio al forno #1\"\n",
    "print(menu[:-3])"
   ]
  },
  {
   "cell_type": "code",
   "execution_count": null,
   "metadata": {},
   "outputs": [],
   "source": [
    "matrix = [list(input()) for _ in range(3)]\n",
    "print(matrix)"
   ]
  },
  {
   "cell_type": "markdown",
   "metadata": {},
   "source": [
    "เก็บในรูป matrix\n",
    "input: \"OOO\" \"XXX\" \"OXO\"\n",
    "output: [['O', 'O', 'O'], ['X', 'X', 'X'], ['O', 'X', 'O']]"
   ]
  },
  {
   "cell_type": "code",
   "execution_count": null,
   "metadata": {},
   "outputs": [],
   "source": [
    "matrix = [[input() for _ in range(3)] for _ in range(3)]\n",
    "print(matrix)"
   ]
  },
  {
   "cell_type": "code",
   "execution_count": null,
   "metadata": {},
   "outputs": [],
   "source": [
    "text = \"winny\"\n",
    "name = {}\n",
    "for cha in text:\n",
    "    name[cha] = name.get(cha, 0) + 1\n",
    "val = list(name.values())\n",
    "print(val)\n",
    "print(name)"
   ]
  },
  {
   "cell_type": "code",
   "execution_count": null,
   "metadata": {},
   "outputs": [],
   "source": [
    "name = \"114\"\n",
    "print(list(name))\n",
    "print(int(name[2]))\n",
    "\n",
    "[\"2\", \"3\", \"4\"]\n",
    "\n",
    "import json\n",
    "text = input()\n",
    "lis = text.loads()\n"
   ]
  },
  {
   "cell_type": "code",
   "execution_count": null,
   "metadata": {},
   "outputs": [],
   "source": [
    "data = {'a': 'Jame', 'b': 'Yam'}\n",
    "x = key(data)\n",
    "print(x)"
   ]
  },
  {
   "cell_type": "code",
   "execution_count": null,
   "metadata": {},
   "outputs": [],
   "source": []
  }
 ],
 "metadata": {
  "kernelspec": {
   "display_name": "Python 3",
   "language": "python",
   "name": "python3"
  },
  "language_info": {
   "codemirror_mode": {
    "name": "ipython",
    "version": 3
   },
   "file_extension": ".py",
   "mimetype": "text/x-python",
   "name": "python",
   "nbconvert_exporter": "python",
   "pygments_lexer": "ipython3",
   "version": "3.10.0"
  },
  "orig_nbformat": 4
 },
 "nbformat": 4,
 "nbformat_minor": 2
}
